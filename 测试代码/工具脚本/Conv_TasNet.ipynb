{
 "cells": [
  {
   "cell_type": "code",
   "execution_count": 27,
   "metadata": {},
   "outputs": [
    {
     "name": "stdout",
     "output_type": "stream",
     "text": [
      "Using cached model `Cosentino/ConvTasNet_LibriMix_sep_noisy`\n",
      "模型下载完成\n",
      "总共花费: 2.758298873901367 时间\n"
     ]
    }
   ],
   "source": [
    "from asteroid.models import BaseModel\n",
    "import soundfile as sf\n",
    "import time\n",
    "\n",
    "# 'from_pretrained' automatically uses the right model class (asteroid.models.DPRNNTasNet).\n",
    "model = BaseModel.from_pretrained(\"Cosentino/ConvTasNet_LibriMix_sep_noisy\")\n",
    "print('模型下载完成')\n",
    "# You can pass a NumPy array:\n",
    "# mixture, _ = sf.read(\"/home/oneran/test.wav\", dtype=\"float32\", always_2d=True)\n",
    "# Soundfile returns the mixture as shape (time, channels), and Asteroid expects (batch, channels, time)\n",
    "# mixture = mixture.transpose()\n",
    "# mixture = mixture.reshape(1, mixture.shape[0], mixture.shape[1])\n",
    "time_s = time.time()\n",
    "# out_wavs = model.separate(mixture)\n",
    "model.separate(\"/home/oneran/test.wav\")\n",
    "time_e = time.time()\n",
    "print('总共花费: {} 时间'.format(time_e - time_s))\n",
    "# Or simply a file name:\n",
    "# model.separate(\"/home/oneran/test.wav\")"
   ]
  },
  {
   "cell_type": "code",
   "execution_count": 23,
   "metadata": {},
   "outputs": [
    {
     "name": "stdout",
     "output_type": "stream",
     "text": [
      "总共花费: 16.062522649765015 时间\n"
     ]
    }
   ],
   "source": [
    "mixture, _ = sf.read(\"/home/oneran/test.wav\", dtype=\"float32\", always_2d=True)\n",
    "# Soundfile returns the mixture as shape (time, channels), and Asteroid expects (batch, channels, time)\n",
    "mixture = mixture.transpose()\n",
    "mixture = mixture.reshape(1, mixture.shape[0], mixture.shape[1])\n",
    "time_s = time.time()\n",
    "out_wavs = model.separate(mixture)\n",
    "time_e = time.time()\n",
    "print('总共花费: {} 时间'.format(time_e - time_s))"
   ]
  }
 ],
 "metadata": {
  "interpreter": {
   "hash": "e7370f93d1d0cde622a1f8e1c04877d8463912d04d973331ad4851f04de6915a"
  },
  "kernelspec": {
   "display_name": "Python 3.10.2 64-bit",
   "name": "python3"
  },
  "language_info": {
   "codemirror_mode": {
    "name": "ipython",
    "version": 3
   },
   "file_extension": ".py",
   "mimetype": "text/x-python",
   "name": "python",
   "nbconvert_exporter": "python",
   "pygments_lexer": "ipython3",
   "version": "3.9.9"
  },
  "orig_nbformat": 4
 },
 "nbformat": 4,
 "nbformat_minor": 2
}

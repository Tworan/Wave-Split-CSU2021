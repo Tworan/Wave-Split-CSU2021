{
 "cells": [
  {
   "cell_type": "code",
   "execution_count": 2,
   "source": [
    "import numpy as np \n",
    "from pystoi import stoi\n",
    "import soundfile\n",
    "import librosa"
   ],
   "outputs": [],
   "metadata": {}
  },
  {
   "cell_type": "code",
   "execution_count": 25,
   "source": [
    "path1 = '/home/oneran/Desktop/test_est1.wav'\n",
    "path2 = '/home/oneran/Desktop/test_est2.wav'\n",
    "origin_wav1 = '/home/oneran/Desktop/test_1.wav'\n",
    "origin_wav2 = '/home/oneran/Desktop/test_2.wav'\n",
    "est1, fs = soundfile.read(path1)\n",
    "est2, fs = soundfile.read(path2)\n",
    "ori1, fs = soundfile.read(origin_wav2)\n",
    "ori2, fs = soundfile.read(origin_wav1)\n",
    "fs = 8000\n",
    "# est1 = librosa.resample(est1, 8000, 16000)\n",
    "# est2 = librosa.resample(est2, 8000, 16000)\n",
    "\n",
    "ori1 = librosa.resample(ori1, 16000, 8000)\n",
    "ori2 = librosa.resample(ori2, 16000, 8000)\n",
    "# est1 = librosa.resample(est1, 16000, 8000)\n",
    "# est2 = librosa.resample(est2, 16000, 8000)\n",
    "print(stoi(ori1, est1, fs), stoi(ori2, est2, fs))"
   ],
   "outputs": [
    {
     "output_type": "stream",
     "name": "stdout",
     "text": [
      "0.9103091607943423 0.9290506268251549\n"
     ]
    }
   ],
   "metadata": {}
  },
  {
   "cell_type": "code",
   "execution_count": 6,
   "source": [
    "path1 = '/home/oneran/Desktop/test_est1.wav'\n",
    "path2 = '/home/oneran/Desktop/test_est2.wav'\n",
    "origin_wav1 = '/home/oneran/Desktop/test_1.wav'\n",
    "origin_wav2 = '/home/oneran/Desktop/test_2.wav'\n",
    "est1, fs = soundfile.read(path1)\n",
    "est2, fs = soundfile.read(path2)\n",
    "ori1, fs = soundfile.read(origin_wav2)\n",
    "ori2, fs = soundfile.read(origin_wav1)\n",
    "fs = 16000\n",
    "est1 = librosa.resample(est1, 8000, 16000)\n",
    "est2 = librosa.resample(est2, 8000, 16000)\n",
    "\n",
    "# ori1 = librosa.resample(ori1, 16000, 8000)\n",
    "# ori2 = librosa.resample(ori2, 16000, 8000)\n",
    "# est1 = librosa.resample(est1, 16000, 8000)\n",
    "# est2 = librosa.resample(est2, 16000, 8000)\n",
    "print(stoi(ori1, est1, fs), stoi(ori2, est2, fs))"
   ],
   "outputs": [
    {
     "output_type": "stream",
     "name": "stdout",
     "text": [
      "0.8169985482691167 0.8382662856027828\n"
     ]
    }
   ],
   "metadata": {}
  },
  {
   "cell_type": "code",
   "execution_count": 28,
   "source": [
    "soundfile.write('/home/oneran/Desktop/temp_1.wav', est1, 16000)\n",
    "soundfile.write('/home/oneran/Desktop/temp_2.wav', est2, 16000)"
   ],
   "outputs": [],
   "metadata": {}
  },
  {
   "cell_type": "code",
   "execution_count": null,
   "source": [],
   "outputs": [],
   "metadata": {}
  }
 ],
 "metadata": {
  "orig_nbformat": 4,
  "language_info": {
   "name": "python",
   "version": "3.10.2",
   "mimetype": "text/x-python",
   "codemirror_mode": {
    "name": "ipython",
    "version": 3
   },
   "pygments_lexer": "ipython3",
   "nbconvert_exporter": "python",
   "file_extension": ".py"
  },
  "kernelspec": {
   "name": "python3",
   "display_name": "Python 3.10.2 64-bit"
  },
  "interpreter": {
   "hash": "e7370f93d1d0cde622a1f8e1c04877d8463912d04d973331ad4851f04de6915a"
  }
 },
 "nbformat": 4,
 "nbformat_minor": 2
}
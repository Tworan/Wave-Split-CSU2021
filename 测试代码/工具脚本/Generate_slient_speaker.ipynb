{
 "cells": [
  {
   "cell_type": "code",
   "execution_count": 1,
   "source": [
    "import os\n",
    "import numpy as np\n",
    "import soundfile as sf\n",
    "import matplotlib.pyplot as plt\n",
    "import threading"
   ],
   "outputs": [],
   "metadata": {}
  },
  {
   "cell_type": "code",
   "execution_count": 4,
   "source": [
    "def generate_slient_speaker(s1, s2):\n",
    "    wav, fs = sf.read(s1)\n",
    "    d = np.mean(wav ** 2) / 1e6\n",
    "    gaussion_noise = np.random.normal(0, np.sqrt(d), size=wav.shape)\n",
    "    sf.write(s2, gaussion_noise, fs) \n",
    "\n",
    "def generate_same_speaker(s1, s2):\n",
    "    wav, fs = sf.read(s1)\n",
    "    sf.write(s2, wav, fs) "
   ],
   "outputs": [],
   "metadata": {}
  },
  {
   "cell_type": "code",
   "execution_count": 5,
   "source": [
    "pdir = '/home/oneran/Data/Libri2Mix/wav16k/both/'\n",
    "split_datas = ['dev', 'test', 'train-360']\n",
    "threads = []\n",
    "max_threads = 12\n",
    "for train_period in split_datas:\n",
    "    print('DIR:', train_period)\n",
    "    period_dir = pdir + train_period\n",
    "    s1_path = period_dir + '/s1'\n",
    "    s2_path = period_dir + '/s2'\n",
    "    for file in os.listdir(s1_path):\n",
    "        if len(file.split('_')) >= 3:\n",
    "            t = threading.Thread(target=generate_same_speaker, kwargs={'s1': s1_path+'/'+file, 's2': s2_path+'/'+file})\n",
    "            t.start()\n",
    "            threads.append(t)\n",
    "        \n",
    "        if len(threads) >= 12:\n",
    "            for t in threads:\n",
    "                t.join()\n",
    "            threads = []\n"
   ],
   "outputs": [
    {
     "output_type": "stream",
     "name": "stdout",
     "text": [
      "DIR: dev\n",
      "DIR: test\n",
      "DIR: train-360\n"
     ]
    }
   ],
   "metadata": {}
  },
  {
   "cell_type": "code",
   "execution_count": 11,
   "source": [
    "temp, _ = sf.read('/home/oneran/Desktop/s2.wav')"
   ],
   "outputs": [],
   "metadata": {}
  },
  {
   "cell_type": "code",
   "execution_count": 20,
   "source": [
    "! /home/oneran/opt/obs/obsutil_linux_amd64_5.2.12/obsutil cp -r -f Libri2Mix obs://wave-split-csu2021/datasets"
   ],
   "outputs": [
    {
     "output_type": "stream",
     "name": "stdout",
     "text": [
      "Error: lstat /home/oneran/Wave-Split-CSU2021/测试代码/Libri2Mix: no such file or directory\n"
     ]
    }
   ],
   "metadata": {}
  },
  {
   "cell_type": "code",
   "execution_count": null,
   "source": [],
   "outputs": [],
   "metadata": {}
  }
 ],
 "metadata": {
  "orig_nbformat": 4,
  "language_info": {
   "name": "python",
   "version": "3.10.2",
   "mimetype": "text/x-python",
   "codemirror_mode": {
    "name": "ipython",
    "version": 3
   },
   "pygments_lexer": "ipython3",
   "nbconvert_exporter": "python",
   "file_extension": ".py"
  },
  "kernelspec": {
   "name": "python3",
   "display_name": "Python 3.10.2 64-bit"
  },
  "interpreter": {
   "hash": "e7370f93d1d0cde622a1f8e1c04877d8463912d04d973331ad4851f04de6915a"
  }
 },
 "nbformat": 4,
 "nbformat_minor": 2
}
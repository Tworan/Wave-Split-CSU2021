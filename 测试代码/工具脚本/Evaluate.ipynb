{
 "cells": [
  {
   "cell_type": "code",
   "execution_count": 1,
   "metadata": {},
   "outputs": [],
   "source": [
    "from asteroid.models import BaseModel\n",
    "import soundfile as sf\n",
    "import time\n",
    "from pystoi import stoi\n",
    "import os\n",
    "import librosa\n",
    "import matplotlib.pyplot as plt\n",
    "import numpy as np"
   ]
  },
  {
   "cell_type": "markdown",
   "metadata": {},
   "source": [
    "## 计算STOI"
   ]
  },
  {
   "cell_type": "code",
   "execution_count": 2,
   "metadata": {},
   "outputs": [
    {
     "name": "stderr",
     "output_type": "stream",
     "text": [
      "/home/oneran/.local/lib/python3.10/site-packages/asteroid/models/base_models.py:55: UserWarning: Other sub-components of the model might have a `sample_rate` attribute, be sure to modify them for consistency.\n",
      "  warnings.warn(\n"
     ]
    },
    {
     "name": "stdout",
     "output_type": "stream",
     "text": [
      "load\n"
     ]
    }
   ],
   "source": [
    "mixture_dir = '/home/oneran/Data/Libri2Mix/wav16k/both/dev/mix_both'\n",
    "s1 = '/home/oneran/Data/Libri2Mix/wav16k/both/dev/s1'\n",
    "s2 = '/home/oneran/Data/Libri2Mix/wav16k/both/dev/s2'\n",
    "##################################################################\n",
    "import torch\n",
    "from asteroid.models import ConvTasNet\n",
    "from asteroid.engine.system import System\n",
    "from asteroid.engine.optimizers import make_optimizer\n",
    "from asteroid.losses import PITLossWrapper, pairwise_neg_sisdr\n",
    "import threading\n",
    "import time\n",
    "# torch.set_default_dtype(torch.float16)\n",
    "checkpoint = torch.load('/home/oneran/Downloads/16k_ep7.ckpt', map_location=torch.device('cpu'))\n",
    "model = ConvTasNet(2, mask_act='relu', norm_type='gLN', kernel_size=32, stride=16)\n",
    "model.sample_rate = 16000\n",
    "model.eval()\n",
    "temp = checkpoint['state_dict']\n",
    "loss_func = PITLossWrapper(pairwise_neg_sisdr, pit_from=\"pw_mtx\")\n",
    "optimizer = make_optimizer(model.parameters())\n",
    "system = System(model, optimizer, loss_func, None)\n",
    "system.load_state_dict(temp)\n",
    "system.cpu()\n",
    "to_save = system.model.serialize()\n",
    "model.load_state_dict(to_save['state_dict'])\n",
    "model.cuda()\n",
    "model.sample_rate = 16000\n",
    "##################################################################\n",
    "\n",
    "histroys = []\n",
    "print('load')\n",
    "\n",
    "# def f(x, y):\n",
    "#     if len(x) > len(y):\n",
    "#         return x[:-(len(x) - len(y))]\n",
    "#     else:\n",
    "#         return np.pad(x, ((0, len(y.flatten()) - len(x.flatten()))), mode='constant', constant_values=0)\n",
    "def read_audio(mixture, s1_path, s2_path, rec):\n",
    "    # time_1 = time.time()\n",
    "    wav1, _ = sf.read(s1_path)\n",
    "    wav2, _ = sf.read(s2_path)\n",
    "    wavmix, _ = sf.read(mixture)\n",
    "    rec.append([wav1, wav2, wavmix])\n",
    "    # time_2 = time.time()\n",
    "    # print(time_2 - time_1)\n",
    "\n",
    "def process(wav, rec):\n",
    "    # time_1 = time.time()\n",
    "    sep = model.separate(wav)\n",
    "    rec.append(sep)\n",
    "    # time_2 = time.time()\n",
    "    # print(time_2 - time_1)\n",
    "\n",
    "def cal_stoi(sep, wav1, wav2, histroys):\n",
    "    sep1, sep2 = sep[0, 0], sep[0, 1]\n",
    "    # sep1, sep2 = f(librosa.resample(sep1, 8000, 16000), wav1), f(librosa.resample(sep2, 8000, 16000), wav2)\n",
    "    stoi_1_1, stoi_1_2 = stoi(wav1, sep1, 16000), stoi(wav2, sep2, 16000)\n",
    "    stoi_2_1, stoi_2_2 = stoi(wav2, sep1, 16000), stoi(wav1, sep2, 16000)\n",
    "    stoi_max_1, stoi_max_2 = max([stoi_1_1, stoi_1_2]), max([stoi_2_1, stoi_2_2])\n",
    "    histroys.append([stoi_1_1, stoi_1_2] if stoi_max_1 > stoi_max_2 else [stoi_2_1, stoi_2_2]) \n",
    "\n",
    "audios = []\n",
    "seps = []\n",
    "stoi_threads_pool = []\n",
    "for i, file in enumerate(os.listdir(mixture_dir)):\n",
    "    mixture = mixture_dir + '/' + file\n",
    "    s1_path = s1 + '/' + file\n",
    "    s2_path = s2 + '/' + file\n",
    "    #* 开始处理上一条\n",
    "    if i != 0:\n",
    "        t.join()\n",
    "        audio = audios.pop()\n",
    "        wavmix = audio[-1]\n",
    "        wavmix = np.expand_dims(wavmix, axis=0).astype(np.float32)\n",
    "        sep_t = threading.Thread(target=process, kwargs={'wav': wavmix, 'rec': seps})\n",
    "        sep_t.start()\n",
    "\n",
    "    #* 加载下一条\n",
    "\n",
    "    t = threading.Thread(target=read_audio, kwargs={'mixture': mixture, 's1_path': s1_path, 's2_path': s2_path, 'rec': audios})\n",
    "    t.start()\n",
    "\n",
    "    if i != 0:\n",
    "        sep_t.join()\n",
    "        sep = seps.pop()\n",
    "        wav1, wav2 = audio[0], audio[1]\n",
    "\n",
    "    # wavmix = librosa.resample(wavmix, 16000, 8000)\n",
    "    \n",
    "    if i != 0:\n",
    "        t_stoi = threading.Thread(target=cal_stoi, kwargs={'sep': sep, 'wav1': wav1, 'wav2': wav2, 'histroys': histroys})\n",
    "        t_stoi.start()\n",
    "        stoi_threads_pool.append(t_stoi)\n",
    "        if len(stoi_threads_pool) >= 20:\n",
    "            for _t in stoi_threads_pool:\n",
    "                _t.join()\n",
    "            stoi_threads_pool = []\n",
    "\n",
    "        # historys.append([stoi_1_1, stoi_1_2])"
   ]
  },
  {
   "cell_type": "code",
   "execution_count": 10,
   "metadata": {},
   "outputs": [
    {
     "data": {
      "text/plain": [
       "17"
      ]
     },
     "execution_count": 10,
     "metadata": {},
     "output_type": "execute_result"
    }
   ],
   "source": []
  }
 ],
 "metadata": {
  "interpreter": {
   "hash": "e7370f93d1d0cde622a1f8e1c04877d8463912d04d973331ad4851f04de6915a"
  },
  "kernelspec": {
   "display_name": "Python 3.10.2 64-bit",
   "name": "python3"
  },
  "language_info": {
   "codemirror_mode": {
    "name": "ipython",
    "version": 3
   },
   "file_extension": ".py",
   "mimetype": "text/x-python",
   "name": "python",
   "nbconvert_exporter": "python",
   "pygments_lexer": "ipython3",
   "version": "3.10.2"
  },
  "orig_nbformat": 4
 },
 "nbformat": 4,
 "nbformat_minor": 2
}

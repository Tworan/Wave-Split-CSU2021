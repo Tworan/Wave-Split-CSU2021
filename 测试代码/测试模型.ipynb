{
 "cells": [
  {
   "cell_type": "code",
   "execution_count": null,
   "source": [
    "import torch\n",
    "from asteroid.models import ConvTasNet\n",
    "from asteroid.engine.system import System\n",
    "from asteroid.engine.optimizers import make_optimizer\n",
    "from asteroid.losses import PITLossWrapper, pairwise_neg_sisdr\n",
    "checkpoint = torch.load('/home/oneran/Downloads/best_model.ckpt', map_location=torch.device('cpu'))\n",
    "model = ConvTasNet(2, mask_act='relu', norm_type='gLN')\n",
    "temp = checkpoint['state_dict']\n",
    "loss_func = PITLossWrapper(pairwise_neg_sisdr, pit_from=\"pw_mtx\")\n",
    "optimizer = make_optimizer(model.parameters())\n",
    "system = System(model, optimizer, loss_func, None)\n",
    "system.load_state_dict(temp)\n",
    "system.cpu()\n",
    "to_save = system.model.serialize()\n",
    "model.load_state_dict(to_save['state_dict'])"
   ],
   "outputs": [],
   "metadata": {}
  }
 ],
 "metadata": {
  "orig_nbformat": 4,
  "language_info": {
   "name": "python"
  }
 },
 "nbformat": 4,
 "nbformat_minor": 2
}
{
 "cells": [
  {
   "cell_type": "code",
   "execution_count": 9,
   "source": [
    "import torch\n",
    "from asteroid.models import ConvTasNet\n",
    "from asteroid.engine.system import System\n",
    "from asteroid.engine.optimizers import make_optimizer\n",
    "from asteroid.losses import PITLossWrapper, pairwise_neg_sisdr\n",
    "checkpoint = torch.load('/home/oneran/Downloads/samespeaker_16k_ep1.ckpt', map_location=torch.device('cpu'))\n",
    "model = ConvTasNet(2, kernel_size=32, stride=16, mask_act='relu', norm_type='gLN')\n",
    "temp = checkpoint['state_dict']\n",
    "loss_func = PITLossWrapper(pairwise_neg_sisdr, pit_from=\"pw_mtx\")\n",
    "optimizer = make_optimizer(model.parameters())\n",
    "system = System(model, optimizer, loss_func, None)\n",
    "system.load_state_dict(temp)\n",
    "system.cpu()\n",
    "to_save = system.model.serialize()\n",
    "model.load_state_dict(to_save['state_dict'])\n",
    "model.cuda()\n",
    "model.sample_rate = 16000\n",
    "pass"
   ],
   "outputs": [],
   "metadata": {}
  },
  {
   "cell_type": "code",
   "execution_count": 10,
   "source": [
    "model.separate('/home/oneran/Wave-Split-CSU2021/测试数据/16k/test_2.wav', force_overwrite=True)\n",
    "model.separate('/home/oneran/Wave-Split-CSU2021/测试数据/16k/test_3.wav', force_overwrite=True)\n",
    "model.separate('/home/oneran/Wave-Split-CSU2021/测试数据/16k/test_4.wav', force_overwrite=True)"
   ],
   "outputs": [],
   "metadata": {}
  },
  {
   "cell_type": "code",
   "execution_count": null,
   "source": [],
   "outputs": [],
   "metadata": {}
  }
 ],
 "metadata": {
  "orig_nbformat": 4,
  "language_info": {
   "name": "python",
   "version": "3.10.2",
   "mimetype": "text/x-python",
   "codemirror_mode": {
    "name": "ipython",
    "version": 3
   },
   "pygments_lexer": "ipython3",
   "nbconvert_exporter": "python",
   "file_extension": ".py"
  },
  "kernelspec": {
   "name": "python3",
   "display_name": "Python 3.10.2 64-bit"
  },
  "interpreter": {
   "hash": "e7370f93d1d0cde622a1f8e1c04877d8463912d04d973331ad4851f04de6915a"
  }
 },
 "nbformat": 4,
 "nbformat_minor": 2
}
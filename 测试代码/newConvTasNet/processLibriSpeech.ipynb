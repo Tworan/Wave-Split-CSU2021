{
 "cells": [
  {
   "cell_type": "markdown",
   "metadata": {},
   "source": [
    "## librispeech文件夹下会有很多子文件夹，将其子文件夹下的wav文件都放到一个统一的文件加下，最后使train,dev,test下即是wav文件\n",
    "### 一些没用的文件手动删除"
   ]
  },
  {
   "cell_type": "code",
   "execution_count": 16,
   "metadata": {},
   "outputs": [],
   "source": [
    "import os, glob, shutil, re"
   ]
  },
  {
   "cell_type": "code",
   "execution_count": 11,
   "metadata": {},
   "outputs": [],
   "source": [
    "flacList = glob.glob(r\"D:/datasets/librispeech/LibriSpeech-dev/dev-clean/*/*/*.flac\")"
   ]
  },
  {
   "cell_type": "code",
   "execution_count": 75,
   "metadata": {},
   "outputs": [],
   "source": [
    "for i,originPath in enumerate(flacList):\n",
    "    a = originPath\n",
    "    a = re.sub(r\"(?<=D:/datasets/librispeech/LibriSpeech-dev/dev-clean\\\\).+?(?=\\\\)\",\"\",a)\n",
    "    a = re.sub(r\"(?<=D:/datasets/librispeech/LibriSpeech-dev/dev-clean\\\\).+?(?=\\\\)\",\"\",a)\n",
    "    destPath = a.replace(\"\\\\\\\\\",\"/\")\n",
    "    shutil.move(originPath, destPath)"
   ]
  },
  {
   "cell_type": "code",
   "execution_count": 77,
   "metadata": {},
   "outputs": [],
   "source": [
    "flacList = glob.glob(r\"D:/datasets/librispeech/LibriSpeech-test/test-clean/*/*/*.flac\")\n",
    "for i,originPath in enumerate(flacList):\n",
    "    a = originPath\n",
    "    a = re.sub(r\"(?<=D:/datasets/librispeech/LibriSpeech-test/test-clean\\\\).+?(?=\\\\)\",\"\",a)\n",
    "    a = re.sub(r\"(?<=D:/datasets/librispeech/LibriSpeech-test/test-clean\\\\).+?(?=\\\\)\",\"\",a)\n",
    "    destPath = a.replace(\"\\\\\\\\\",\"/\")\n",
    "    shutil.move(originPath, destPath)"
   ]
  },
  {
   "cell_type": "code",
   "execution_count": 79,
   "metadata": {},
   "outputs": [],
   "source": [
    "flacList = glob.glob(r\"D:/datasets/librispeech/LibriSpeech-train/train-clean-100/*/*/*.flac\")\n",
    "for i,originPath in enumerate(flacList):\n",
    "    a = originPath\n",
    "    a = re.sub(r\"(?<=D:/datasets/librispeech/LibriSpeech-train/train-clean-100\\\\).+?(?=\\\\)\",\"\",a)\n",
    "    a = re.sub(r\"(?<=D:/datasets/librispeech/LibriSpeech-train/train-clean-100\\\\).+?(?=\\\\)\",\"\",a)\n",
    "    destPath = a.replace(\"\\\\\\\\\",\"/\")\n",
    "    shutil.move(originPath, destPath)"
   ]
  },
  {
   "cell_type": "code",
   "execution_count": 72,
   "metadata": {},
   "outputs": [
    {
     "data": {
      "text/plain": [
       "'D:/datasets/librispeech/LibriSpeech-dev/dev-clean\\\\1272\\\\128104\\\\1272-128104-0000.flac'"
      ]
     },
     "execution_count": 72,
     "metadata": {},
     "output_type": "execute_result"
    }
   ],
   "source": [
    "a = flacList[0]\n",
    "a"
   ]
  },
  {
   "cell_type": "code",
   "execution_count": 73,
   "metadata": {},
   "outputs": [
    {
     "data": {
      "text/plain": [
       "'D:/datasets/librispeech/LibriSpeech-dev/dev-clean/1272-128104-0000.flac'"
      ]
     },
     "execution_count": 73,
     "metadata": {},
     "output_type": "execute_result"
    }
   ],
   "source": [
    "a = re.sub(r\"(?<=D:/datasets/librispeech/LibriSpeech-dev/dev-clean\\\\).+?(?=\\\\)\",\"\",a)\n",
    "a = re.sub(r\"(?<=D:/datasets/librispeech/LibriSpeech-dev/dev-clean\\\\).+?(?=\\\\)\",\"\",a)\n",
    "a = a.replace(\"\\\\\\\\\",\"/\")\n",
    "a"
   ]
  }
 ],
 "metadata": {
  "kernelspec": {
   "display_name": "Python(torch_py3.7)",
   "language": "python",
   "name": "torch_py3.7"
  },
  "language_info": {
   "codemirror_mode": {
    "name": "ipython",
    "version": 3
   },
   "file_extension": ".py",
   "mimetype": "text/x-python",
   "name": "python",
   "nbconvert_exporter": "python",
   "pygments_lexer": "ipython3",
   "version": "3.7.10"
  }
 },
 "nbformat": 4,
 "nbformat_minor": 2
}

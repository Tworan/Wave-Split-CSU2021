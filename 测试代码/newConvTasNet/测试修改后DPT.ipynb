{
 "cells": [
  {
   "cell_type": "code",
   "execution_count": 1,
   "metadata": {},
   "outputs": [],
   "source": [
    "import os\n",
    "import numpy as np\n",
    "import torch \n",
    "import sys\n",
    "import soundfile as sf\n",
    "sys.path.append('/home/oneran/Wave-Split-CSU2021/测试代码/newConvTasNet')\n",
    "from model.pretrainedDPTConvTasNet import ConvTasNet"
   ]
  },
  {
   "cell_type": "code",
   "execution_count": 2,
   "metadata": {},
   "outputs": [],
   "source": [
    "params = np.load('/home/oneran/Wave-Split-CSU2021/models/parameters.npy', allow_pickle=True).item()\n",
    "model = ConvTasNet(\n",
    "    N = params['N'],\n",
    "    L = params['L'],\n",
    "    B = params['B'],\n",
    "    Sc = params['Sc'],\n",
    "    H = params['H'],\n",
    "    P = params['P'],\n",
    "    X = params['X'],\n",
    "    R = params['R'],\n",
    "    N_ED = params['N_ED'],\n",
    "    attention = params['attention'],\n",
    "    bias = params['bias']\n",
    ").cpu()"
   ]
  },
  {
   "cell_type": "code",
   "execution_count": 3,
   "metadata": {},
   "outputs": [
    {
     "data": {
      "text/plain": [
       "<All keys matched successfully>"
      ]
     },
     "execution_count": 3,
     "metadata": {},
     "output_type": "execute_result"
    }
   ],
   "source": [
    "# input_tensor = torch.rand((1, 1, 64000)).cpu()\n",
    "ckpt = torch.load('/home/oneran/Wave-Split-CSU2021/models/ckpt.pth')\n",
    "model.load_state_dict(ckpt['model_state_dict'])"
   ]
  },
  {
   "cell_type": "code",
   "execution_count": 4,
   "metadata": {},
   "outputs": [],
   "source": [
    "root_path = '/home/oneran/Wave-Split-CSU2021/测试数据/16k'\n",
    "model.eval()\n",
    "def f(root_path, wavfile):\n",
    "    wav, _ = sf.read(root_path + '/' + wavfile)\n",
    "    ret = model.separate(wav.astype(np.float32))\n",
    "    sf.write(root_path + '/' + '{}_est1.wav'.format(wavfile[:-4]), ret[0], 16000)\n",
    "    sf.write(root_path + '/' + '{}_est2.wav'.format(wavfile[:-4]), ret[1], 16000)"
   ]
  },
  {
   "cell_type": "code",
   "execution_count": 6,
   "metadata": {},
   "outputs": [],
   "source": [
    "f(root_path, 'test_6.wav')"
   ]
  },
  {
   "cell_type": "code",
   "execution_count": null,
   "metadata": {},
   "outputs": [],
   "source": []
  }
 ],
 "metadata": {
  "interpreter": {
   "hash": "e7370f93d1d0cde622a1f8e1c04877d8463912d04d973331ad4851f04de6915a"
  },
  "kernelspec": {
   "display_name": "Python 3.9.9 64-bit",
   "language": "python",
   "name": "python3"
  },
  "language_info": {
   "codemirror_mode": {
    "name": "ipython",
    "version": 3
   },
   "file_extension": ".py",
   "mimetype": "text/x-python",
   "name": "python",
   "nbconvert_exporter": "python",
   "pygments_lexer": "ipython3",
   "version": "3.9.9"
  },
  "orig_nbformat": 4
 },
 "nbformat": 4,
 "nbformat_minor": 2
}

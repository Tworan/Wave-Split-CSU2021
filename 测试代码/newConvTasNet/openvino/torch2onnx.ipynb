{
 "cells": [
  {
   "cell_type": "code",
   "execution_count": 11,
   "metadata": {},
   "outputs": [],
   "source": [
    "import torch\n",
    "import os\n",
    "import sys\n",
    "import numpy as np\n",
    "import onnx\n",
    "import onnxruntime\n",
    "import time\n",
    "sys.path.append(os.path.abspath('..'))"
   ]
  },
  {
   "cell_type": "code",
   "execution_count": 2,
   "metadata": {},
   "outputs": [],
   "source": [
    "from model.net import ConvTasNet\n",
    "net = ConvTasNet(N=512, L=40, B=128,\n",
    "                 Sc=128, H=512, P=3,\n",
    "                 X=8, R=3, C=2, N_ED=2,\n",
    "                 mask_act='relu', attention=[1, 1])"
   ]
  },
  {
   "cell_type": "code",
   "execution_count": 6,
   "metadata": {},
   "outputs": [],
   "source": [
    "dummy_input = torch.randn(1,1,32000)\n",
    "torch.onnx.export(net,\n",
    "                  dummy_input,\n",
    "                  'model.onnx',\n",
    "                  input_names=['input'],\n",
    "                  output_names=['output'],\n",
    "                  dynamic_axes={'input': {2: 'utt'},\n",
    "                                'output': {2: 'utt'}},\n",
    "                  opset_version=11,\n",
    "                  )"
   ]
  },
  {
   "cell_type": "code",
   "execution_count": 9,
   "metadata": {},
   "outputs": [],
   "source": [
    "model = onnx.load('model.onnx')\n",
    "onnx.checker.check_model(model)"
   ]
  },
  {
   "cell_type": "code",
   "execution_count": 10,
   "metadata": {},
   "outputs": [],
   "source": [
    "model = onnxruntime.InferenceSession('model.onnx')"
   ]
  },
  {
   "cell_type": "code",
   "execution_count": 22,
   "metadata": {},
   "outputs": [
    {
     "name": "stdout",
     "output_type": "stream",
     "text": [
      "0.9369978904724121\n"
     ]
    }
   ],
   "source": [
    "wav = np.empty((1,1,16000*4),dtype=np.float32)\n",
    "input = {model.get_inputs()[0].name: wav}\n",
    "tic = time.time()\n",
    "out = model.run(None, input)[0]\n",
    "print(time.time()-tic)"
   ]
  },
  {
   "cell_type": "code",
   "execution_count": 23,
   "metadata": {},
   "outputs": [
    {
     "name": "stdout",
     "output_type": "stream",
     "text": [
      "1.751145839691162\n"
     ]
    }
   ],
   "source": [
    "with torch.no_grad():\n",
    "    tic = time.time()\n",
    "    out_torch = net(torch.tensor(wav))\n",
    "    print(time.time()-tic)"
   ]
  }
 ],
 "metadata": {
  "interpreter": {
   "hash": "20e14252a7d0f7880466e59759cb90a0c02929c0a40b317bdd2b0e06c9ef23a6"
  },
  "kernelspec": {
   "display_name": "Python 3.7.0",
   "language": "python",
   "name": "python3"
  },
  "language_info": {
   "codemirror_mode": {
    "name": "ipython",
    "version": 3
   },
   "file_extension": ".py",
   "mimetype": "text/x-python",
   "name": "python",
   "nbconvert_exporter": "python",
   "pygments_lexer": "ipython3",
   "version": "3.7.0"
  },
  "orig_nbformat": 4
 },
 "nbformat": 4,
 "nbformat_minor": 2
}

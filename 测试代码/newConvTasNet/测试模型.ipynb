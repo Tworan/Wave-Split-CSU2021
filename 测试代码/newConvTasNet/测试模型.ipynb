{
 "cells": [
  {
   "cell_type": "code",
   "execution_count": 1,
   "metadata": {},
   "outputs": [],
   "source": [
    "import sys\n",
    "import torch\n",
    "import soundfile as sf \n",
    "sys.path.append('/home/oneran/Wave-Split-CSU2021/测试代码/newConvTasNet')\n",
    "from model.pretrainedDPTConvTasNet import ConvTasNet\n",
    "import numpy as np\n",
    "from asteroid.models import BaseModel\n",
    "from pretrained_sudormrf import get_fusion_model\n",
    "import time\n",
    "torch.set_num_threads(7)"
   ]
  },
  {
   "cell_type": "code",
   "execution_count": null,
   "metadata": {},
   "outputs": [],
   "source": [
    "parameters = np.load('/home/oneran/Wave-Split-CSU2021/models/parameters.npy', allow_pickle=True).item()\n",
    "net = ConvTasNet(parameters[\"N\"], parameters[\"L\"], parameters[\"B\"], parameters[\"Sc\"], parameters[\"H\"],\n",
    "                    parameters[\"P\"],\n",
    "                    parameters[\"X\"], parameters[\"R\"], parameters[\"C\"], parameters[\"N_ED\"], parameters[\"mask_act\"],\n",
    "                    parameters[\"attention\"]).cuda()\n",
    "\n",
    "optim = torch.optim.Adam(net.parameters(), lr=parameters[\"LR\"])\n",
    "checkpoint = torch.load('/home/oneran/Wave-Split-CSU2021/models/ckpt.pth')\n",
    "\n",
    "init_epoch = checkpoint[\"epoch\"]\n",
    "net.load_state_dict(checkpoint['model_state_dict'])\n",
    "net.cpu()\n",
    "pass"
   ]
  },
  {
   "cell_type": "code",
   "execution_count": 21,
   "metadata": {},
   "outputs": [
    {
     "name": "stderr",
     "output_type": "stream",
     "text": [
      "/home/oneran/sudo_rm_rf/sudo_rm_rf/dnn/models/improved_sudormrf.py:255: UserWarning: nn.init.xavier_uniform is now deprecated in favor of nn.init.xavier_uniform_.\n",
      "  torch.nn.init.xavier_uniform(self.encoder.weight)\n",
      "/home/oneran/sudo_rm_rf/sudo_rm_rf/dnn/models/improved_sudormrf.py:283: UserWarning: nn.init.xavier_uniform is now deprecated in favor of nn.init.xavier_uniform_.\n",
      "  torch.nn.init.xavier_uniform(self.decoder.weight)\n"
     ]
    }
   ],
   "source": [
    "net = get_fusion_model()\n",
    "ckpt = torch.load('/home/oneran/Wave-Split-CSU2021/models/ckpt.pth')\n",
    "best = torch.load('/home/oneran/Wave-Split-CSU2021/models/best.pth')\n",
    "net.load_state_dict(best)\n",
    "net.cpu()\n",
    "pass"
   ]
  },
  {
   "cell_type": "code",
   "execution_count": null,
   "metadata": {},
   "outputs": [],
   "source": [
    "inputs = torch.ones(1, 1, 64000)\n",
    "# traced_module = torch.jit.trace(net, inputs)\n",
    "# traced_module.save('/home/oneran/Wave-Split-CSU2021/模型压缩/DPT_ConvTasNet.pt')\n",
    "traced_module.eval()\n",
    "net.eval()\n",
    "torch.save(net, '/home/oneran/Wave-Split-CSU2021/模型压缩/DPT_ConvTasNet.pth')\n",
    "pass"
   ]
  },
  {
   "cell_type": "code",
   "execution_count": 36,
   "metadata": {},
   "outputs": [],
   "source": [
    "root_path = '/home/oneran/Wave-Split-CSU2021/测试数据/16k'\n",
    "net.eval()\n",
    "def f(root_path, wavfile):\n",
    "    wav, _ = sf.read(root_path + '/' + wavfile)\n",
    "    pad_ = 80 - len(wav) % 80 + 1\n",
    "    wav = np.concatenate([wav, np.zeros((pad_))], axis=-1)\n",
    "    ret = net(torch.Tensor(wav.reshape(1, 1, -1).astype(np.float32))).detach().numpy()[0]\n",
    "    sf.write(root_path + '/' + '{}_est1.wav'.format(wavfile[:-4]), ret[0] / np.max(ret) / 2, 16000)\n",
    "    sf.write(root_path + '/' + '{}_est2.wav'.format(wavfile[:-4]), ret[1] / np.max(ret) / 2, 16000)"
   ]
  },
  {
   "cell_type": "code",
   "execution_count": 38,
   "metadata": {},
   "outputs": [],
   "source": [
    "net.cpu()\n",
    "f(root_path, 'test_2.wav')"
   ]
  },
  {
   "cell_type": "code",
   "execution_count": null,
   "metadata": {},
   "outputs": [],
   "source": [
    "model = BaseModel.from_pretrained(\"JorisCos/ConvTasNet_Libri2Mix_sepnoisy_16k\")\n",
    "model.sample_rate = 16000\n",
    "model.separate('/home/oneran/Wave-Split-CSU2021/测试数据/16k/test_4.wav', force_overwrite=True)"
   ]
  },
  {
   "cell_type": "code",
   "execution_count": null,
   "metadata": {},
   "outputs": [],
   "source": [
    "net.eval()\n",
    "model.eval()\n",
    "_in = torch.rand((1, 1, 16000 * 8))\n",
    "time_1 = time.time()\n",
    "net(_in)\n",
    "time_2 = time.time()\n",
    "model(_in)\n",
    "time_3 = time.time()\n",
    "print(time_3-time_2, time_2-time_1)"
   ]
  },
  {
   "cell_type": "code",
   "execution_count": null,
   "metadata": {},
   "outputs": [],
   "source": []
  }
 ],
 "metadata": {
  "interpreter": {
   "hash": "e7370f93d1d0cde622a1f8e1c04877d8463912d04d973331ad4851f04de6915a"
  },
  "kernelspec": {
   "display_name": "Python 3.10.2 64-bit",
   "language": "python",
   "name": "python3"
  },
  "language_info": {
   "codemirror_mode": {
    "name": "ipython",
    "version": 3
   },
   "file_extension": ".py",
   "mimetype": "text/x-python",
   "name": "python",
   "nbconvert_exporter": "python",
   "pygments_lexer": "ipython3",
   "version": "3.9.9"
  },
  "orig_nbformat": 4
 },
 "nbformat": 4,
 "nbformat_minor": 2
}

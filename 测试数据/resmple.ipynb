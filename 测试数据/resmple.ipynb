{
 "cells": [
  {
   "cell_type": "code",
   "execution_count": 1,
   "source": [
    "import os, librosa\n",
    "import soundfile as sf\n",
    "dir_path_8k = '/home/oneran/Wave-Split-CSU2021/测试数据/8k'\n",
    "dir_path_16k = '/home/oneran/Wave-Split-CSU2021/测试数据/16k'\n",
    "for wav in os.listdir(dir_path_8k):\n",
    "    wavpath = dir_path_8k + '/' + wav\n",
    "    audio, _ = sf.read(wavpath)\n",
    "    audio_ = librosa.resample(audio, 8000, 16000)\n",
    "    sf.write(dir_path_16k + '/' + wav, audio_, 16000)"
   ],
   "outputs": [],
   "metadata": {}
  },
  {
   "cell_type": "code",
   "execution_count": null,
   "source": [],
   "outputs": [],
   "metadata": {}
  }
 ],
 "metadata": {
  "orig_nbformat": 4,
  "language_info": {
   "name": "python",
   "version": "3.10.1",
   "mimetype": "text/x-python",
   "codemirror_mode": {
    "name": "ipython",
    "version": 3
   },
   "pygments_lexer": "ipython3",
   "nbconvert_exporter": "python",
   "file_extension": ".py"
  },
  "kernelspec": {
   "name": "python3",
   "display_name": "Python 3.10.1 64-bit"
  },
  "interpreter": {
   "hash": "e7370f93d1d0cde622a1f8e1c04877d8463912d04d973331ad4851f04de6915a"
  }
 },
 "nbformat": 4,
 "nbformat_minor": 2
}
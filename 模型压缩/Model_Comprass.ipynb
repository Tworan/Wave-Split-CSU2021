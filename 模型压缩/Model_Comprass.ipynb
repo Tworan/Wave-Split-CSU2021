{
 "cells": [
  {
   "cell_type": "code",
   "execution_count": 8,
   "source": [
    "import os\n",
    "import torch\n",
    "from asteroid.models import BaseModel\n",
    "import soundfile as sf\n",
    "import time\n",
    "import numpy as np\n",
    "import onnx\n",
    "import onnxruntime\n",
    "import matplotlib.pyplot as plt\n",
    "\n",
    "# 'from_pretrained' automatically uses the right model class (asteroid.models.DPRNNTasNet).\n",
    "model = BaseModel.from_pretrained('JorisCos/ConvTasNet_Libri2Mix_sepnoisy_16k')\n",
    "model.cuda()\n",
    "pass"
   ],
   "outputs": [],
   "metadata": {}
  },
  {
   "cell_type": "code",
   "execution_count": 2,
   "source": [
    "# model.eval()\n",
    "# torch.cuda.empty_cache()\n",
    "# torch.onnx.export(model, torch.rand((1, 1, 300 * 16), device='cuda'),\n",
    "#                     \"conv_tasnet.onnx\",\n",
    "#                     export_params=True,\n",
    "#                     input_names=['input'],\n",
    "#                     output_names=['output'],\n",
    "#                     dynamic_axes={'input': [2], 'output': [2]},\n",
    "#                     verbose=False,\n",
    "#                     opset_version=11,\n",
    "#                     do_constant_folding=True\n",
    "#                     )"
   ],
   "outputs": [],
   "metadata": {}
  },
  {
   "cell_type": "code",
   "execution_count": 3,
   "source": [
    "m = onnx.load('conv_tasnet.onnx')\n",
    "onnx.checker.check_model(m)"
   ],
   "outputs": [],
   "metadata": {}
  },
  {
   "cell_type": "code",
   "execution_count": 4,
   "source": [
    "resnet_session = onnxruntime.InferenceSession('conv_tasnet.onnx')"
   ],
   "outputs": [
    {
     "output_type": "stream",
     "name": "stderr",
     "text": [
      "2022-03-02 14:51:53.831028262 [W:onnxruntime:, graph.cc:3526 CleanUnusedInitializersAndNodeArgs] Removing initializer '354'. It is not used by any node and should be removed from the model.\n",
      "2022-03-02 14:51:53.832342793 [W:onnxruntime:, graph.cc:3526 CleanUnusedInitializersAndNodeArgs] Removing initializer '355'. It is not used by any node and should be removed from the model.\n"
     ]
    }
   ],
   "metadata": {}
  },
  {
   "cell_type": "code",
   "execution_count": 5,
   "source": [
    "test_wav, _ = sf.read('/home/oneran/Wave-Split-CSU2021/测试数据/16k/test_2.wav')"
   ],
   "outputs": [],
   "metadata": {}
  },
  {
   "cell_type": "code",
   "execution_count": 21,
   "source": [
    "inputs = {resnet_session.get_inputs()[0].name: test_wav.astype(np.float32).reshape(1, 1, -1)}\n",
    "time.sleep(5)\n",
    "time_s = time.time()\n",
    "outs = resnet_session.run(None, inputs)[0]\n",
    "time_e = time.time()\n",
    "print(time_e - time_s)\n",
    "plt.plot(outs[0, 0])"
   ],
   "outputs": [
    {
     "output_type": "stream",
     "name": "stdout",
     "text": [
      "7.143913745880127\n"
     ]
    },
    {
     "output_type": "execute_result",
     "data": {
      "text/plain": [
       "[<matplotlib.lines.Line2D at 0x7f48300cba00>]"
      ]
     },
     "metadata": {},
     "execution_count": 21
    },
    {
     "output_type": "display_data",
     "data": {
      "image/png": "[encoded data removed]",
      "text/plain": [
       "<Figure size 432x288 with 1 Axes>"
      ]
     },
     "metadata": {
      "needs_background": "light"
     }
    }
   ],
   "metadata": {}
  },
  {
   "cell_type": "code",
   "execution_count": 23,
   "source": [
    "model.cpu()\n",
    "model.eval()\n",
    "# static_model = torch.jit.trace(model, torch.randn(1, 1, 64000))\n",
    "input_tensor = torch.from_numpy(test_wav.astype(np.float32).reshape(1, 1, -1))\n",
    "time.sleep(5)\n",
    "time_s = time.time()\n",
    "with torch.no_grad():\n",
    "    outs = model(input_tensor)\n",
    "time_e = time.time()\n",
    "print(time_e - time_s)\n",
    "plt.plot(outs.detach().numpy()[0, 0])"
   ],
   "outputs": [
    {
     "output_type": "stream",
     "name": "stdout",
     "text": [
      "5.924440622329712\n"
     ]
    },
    {
     "output_type": "execute_result",
     "data": {
      "text/plain": [
       "[<matplotlib.lines.Line2D at 0x7f481c25f970>]"
      ]
     },
     "metadata": {},
     "execution_count": 23
    },
    {
     "output_type": "display_data",
     "data": {
      "image/png": "[encoded data removed]",
      "text/plain": [
       "<Figure size 432x288 with 1 Axes>"
      ]
     },
     "metadata": {
      "needs_background": "light"
     }
    }
   ],
   "metadata": {}
  },
  {
   "cell_type": "code",
   "execution_count": 15,
   "source": [
    "len(test_wav) // 16000"
   ],
   "outputs": [
    {
     "output_type": "execute_result",
     "data": {
      "text/plain": [
       "11"
      ]
     },
     "metadata": {},
     "execution_count": 15
    }
   ],
   "metadata": {}
  },
  {
   "cell_type": "code",
   "execution_count": null,
   "source": [],
   "outputs": [],
   "metadata": {}
  }
 ],
 "metadata": {
  "orig_nbformat": 4,
  "language_info": {
   "name": "python",
   "version": "3.9.9",
   "mimetype": "text/x-python",
   "codemirror_mode": {
    "name": "ipython",
    "version": 3
   },
   "pygments_lexer": "ipython3",
   "nbconvert_exporter": "python",
   "file_extension": ".py"
  },
  "kernelspec": {
   "name": "python3",
   "display_name": "Python 3.9.9 64-bit"
  },
  "interpreter": {
   "hash": "e7370f93d1d0cde622a1f8e1c04877d8463912d04d973331ad4851f04de6915a"
  }
 },
 "nbformat": 4,
 "nbformat_minor": 2
}
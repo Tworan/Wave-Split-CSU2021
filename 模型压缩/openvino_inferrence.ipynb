{
 "cells": [
  {
   "cell_type": "code",
   "execution_count": 62,
   "metadata": {},
   "outputs": [],
   "source": [
    "from openvino.inference_engine import IENetwork, IECore\n",
    "import numpy as np\n",
    "import os\n",
    "import time\n",
    "\n",
    "device = 'CPU'\n",
    "# plugin_dirs = ''\n",
    "\n",
    "model_xml = '/home/oneran/Downloads/model.xml'\n",
    "model_bin = '/home/oneran/Downloads/model.bin'\n",
    "ie = IECore()\n",
    "\n",
    "net = ie.read_network(model=model_xml, weights=model_bin)"
   ]
  },
  {
   "cell_type": "code",
   "execution_count": 85,
   "metadata": {},
   "outputs": [
    {
     "data": {
      "text/plain": [
       "'YES'"
      ]
     },
     "execution_count": 85,
     "metadata": {},
     "output_type": "execute_result"
    }
   ],
   "source": [
    "ie.get_config('CPU', 'CPU_BIND_THREAD')\n",
    "ie.set_config(device_name=\"CPU\", config={\"CPU_THREADS_NUM\": '10'})"
   ]
  },
  {
   "cell_type": "code",
   "execution_count": 104,
   "metadata": {},
   "outputs": [
    {
     "name": "stdout",
     "output_type": "stream",
     "text": [
      "0.9186461353302002\n"
     ]
    }
   ],
   "source": [
    "# input_blob = next(iter(net.inputs))\n",
    "# out_blob = next(iter(net.outputs))\n",
    "net.batch_size = 1\n",
    "exec_net = ie.load_network(network=net, device_name='CPU', num_requests=10)\n",
    "mix = np.random.normal(size=(1, 1, 32000))\n",
    "times = 100\n",
    "time_s = time.time()\n",
    "for i in range(times):\n",
    "    res = exec_net.infer(inputs={'input': mix})\n",
    "time_e = time.time()\n",
    "print((time_e - time_s) / times)"
   ]
  }
 ],
 "metadata": {
  "interpreter": {
   "hash": "e7370f93d1d0cde622a1f8e1c04877d8463912d04d973331ad4851f04de6915a"
  },
  "kernelspec": {
   "display_name": "Python 3.9.9 64-bit",
   "language": "python",
   "name": "python3"
  },
  "language_info": {
   "codemirror_mode": {
    "name": "ipython",
    "version": 3
   },
   "file_extension": ".py",
   "mimetype": "text/x-python",
   "name": "python",
   "nbconvert_exporter": "python",
   "pygments_lexer": "ipython3",
   "version": "3.9.9"
  },
  "orig_nbformat": 4
 },
 "nbformat": 4,
 "nbformat_minor": 2
}
